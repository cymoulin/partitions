{
 "cells": [
  {
   "cell_type": "code",
   "execution_count": 40,
   "id": "b3c077e6",
   "metadata": {},
   "outputs": [],
   "source": [
    "def part(n,k):\n",
    "    if k==1:\n",
    "        return [[n]]\n",
    "    elif k==n:\n",
    "        return [[1]*n]\n",
    "    elif k>n:\n",
    "        return []\n",
    "    else:\n",
    "        return applyf(part(n-1,k-1)) + applyg(part(n-k,k))"
   ]
  },
  {
   "cell_type": "code",
   "execution_count": 54,
   "id": "53cd891b",
   "metadata": {},
   "outputs": [],
   "source": [
    "def par(n):\n",
    "    res = []\n",
    "    for i in range(n):\n",
    "        res = res + part(n,i+1)\n",
    "    return res"
   ]
  },
  {
   "cell_type": "code",
   "execution_count": 31,
   "id": "5af86bed",
   "metadata": {},
   "outputs": [],
   "source": [
    "def applyf(t):\n",
    "    for i in range(len(t)):\n",
    "        t[i]=t[i]+[1]\n",
    "    return t\n",
    "\n",
    "def applygg(t):\n",
    "    for i in range(len(t)):\n",
    "        t[i]=t[i]+1\n",
    "    return t\n",
    "\n",
    "def applyg(t):\n",
    "    for i in range(len(t)):\n",
    "        t[i]=applygg(t[i])\n",
    "    return t\n",
    "\n"
   ]
  },
  {
   "cell_type": "code",
   "execution_count": 59,
   "id": "27196a09",
   "metadata": {},
   "outputs": [
    {
     "name": "stdout",
     "output_type": "stream",
     "text": [
      "1\n",
      "[[1]]\n",
      "2\n",
      "[[2], [1, 1]]\n",
      "3\n",
      "[[3], [2, 1], [1, 1, 1]]\n",
      "5\n",
      "[[4], [3, 1], [2, 2], [2, 1, 1], [1, 1, 1, 1]]\n",
      "7\n",
      "[[5], [4, 1], [3, 2], [3, 1, 1], [2, 2, 1], [2, 1, 1, 1], [1, 1, 1, 1, 1]]\n",
      "11\n",
      "[[6], [5, 1], [4, 2], [3, 3], [4, 1, 1], [3, 2, 1], [2, 2, 2], [3, 1, 1, 1], [2, 2, 1, 1], [2, 1, 1, 1, 1], [1, 1, 1, 1, 1, 1]]\n",
      "15\n",
      "[[7], [6, 1], [5, 2], [4, 3], [5, 1, 1], [4, 2, 1], [3, 3, 1], [3, 2, 2], [4, 1, 1, 1], [3, 2, 1, 1], [2, 2, 2, 1], [3, 1, 1, 1, 1], [2, 2, 1, 1, 1], [2, 1, 1, 1, 1, 1], [1, 1, 1, 1, 1, 1, 1]]\n"
     ]
    }
   ],
   "source": [
    "for i in range(7):\n",
    "    p = par(i+1)\n",
    "    print(len(p))\n",
    "    print(par(i+1))\n",
    "    "
   ]
  }
 ],
 "metadata": {
  "kernelspec": {
   "display_name": "Python 3 (ipykernel)",
   "language": "python",
   "name": "python3"
  },
  "language_info": {
   "codemirror_mode": {
    "name": "ipython",
    "version": 3
   },
   "file_extension": ".py",
   "mimetype": "text/x-python",
   "name": "python",
   "nbconvert_exporter": "python",
   "pygments_lexer": "ipython3",
   "version": "3.9.7"
  }
 },
 "nbformat": 4,
 "nbformat_minor": 5
}
