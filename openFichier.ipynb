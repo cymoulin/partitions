{
 "cells": [
  {
   "cell_type": "code",
   "execution_count": 9,
   "id": "2e79503f",
   "metadata": {},
   "outputs": [],
   "source": [
    "fichier = open(\"./Documents/texteCor.txt\", \"r\", encoding = \"utf-8\")\n",
    "ss = fichier.read()\n",
    "fichier.close()"
   ]
  },
  {
   "cell_type": "code",
   "execution_count": 10,
   "id": "a722262a",
   "metadata": {},
   "outputs": [],
   "source": [
    "tab = ss.splitlines()"
   ]
  },
  {
   "cell_type": "code",
   "execution_count": 11,
   "id": "f4d12de9",
   "metadata": {},
   "outputs": [],
   "source": [
    "for i in range(len(tab)):\n",
    "    tab[i] = tab[i][4:]"
   ]
  },
  {
   "cell_type": "code",
   "execution_count": 12,
   "id": "d4031e19",
   "metadata": {},
   "outputs": [],
   "source": [
    "newtext = \"\"\n",
    "\n",
    "for i in range(len(tab)):\n",
    "    newtext = newtext + tab[i] + \"\\n\""
   ]
  },
  {
   "cell_type": "code",
   "execution_count": 13,
   "id": "fa70e724",
   "metadata": {},
   "outputs": [],
   "source": [
    "fichier = open(\"./Documents/newtexteCor.txt\", \"w\", encoding = \"utf-8\")\n",
    "\n",
    "for i in range(len(tab)):\n",
    "    fichier.write(tab[i] + \"\\n\")\n",
    "\n",
    "\n",
    "fichier.close()"
   ]
  },
  {
   "cell_type": "code",
   "execution_count": null,
   "id": "3323bf7c",
   "metadata": {},
   "outputs": [],
   "source": []
  }
 ],
 "metadata": {
  "kernelspec": {
   "display_name": "Python 3 (ipykernel)",
   "language": "python",
   "name": "python3"
  },
  "language_info": {
   "codemirror_mode": {
    "name": "ipython",
    "version": 3
   },
   "file_extension": ".py",
   "mimetype": "text/x-python",
   "name": "python",
   "nbconvert_exporter": "python",
   "pygments_lexer": "ipython3",
   "version": "3.9.7"
  }
 },
 "nbformat": 4,
 "nbformat_minor": 5
}
